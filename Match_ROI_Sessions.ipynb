{
 "cells": [
  {
   "cell_type": "code",
   "execution_count": 1,
   "id": "ed3c3f9b",
   "metadata": {},
   "outputs": [],
   "source": [
    "%load_ext autoreload\n",
    "%autoreload 2"
   ]
  },
  {
   "cell_type": "code",
   "execution_count": 2,
   "id": "0ee4a785",
   "metadata": {},
   "outputs": [
    {
     "name": "stderr",
     "output_type": "stream",
     "text": [
      "C:\\Users\\User\\miniconda3\\envs\\two-photon\\lib\\site-packages\\tqdm\\auto.py:22: TqdmWarning: IProgress not found. Please update jupyter and ipywidgets. See https://ipywidgets.readthedocs.io/en/stable/user_install.html\n",
      "  from .autonotebook import tqdm as notebook_tqdm\n"
     ]
    }
   ],
   "source": [
    "import TwoPUtils\n",
    "import matplotlib.pyplot as plt\n",
    "import numpy as np\n",
    "from skimage import measure\n",
    "import os\n",
    "import pandas as pd\n",
    "from pathlib import Path\n",
    "%matplotlib inline\n"
   ]
  },
  {
   "cell_type": "code",
   "execution_count": 3,
   "id": "22381d86",
   "metadata": {},
   "outputs": [],
   "source": [
    "exp_log = pd.read_excel(r'Y:\\giocomo\\export\\data\\Projects\\multiSLM\\ExpLog.xlsx', sheet_name='Sheet1')"
   ]
  },
  {
   "cell_type": "code",
   "execution_count": 4,
   "id": "9cf7b6fc",
   "metadata": {},
   "outputs": [],
   "source": [
    "def plot_matches(ref_session,target_session,ref_inds,target_inds,plane):\n",
    "    ref_ops = ref_session.s2p_ops[plane];\n",
    "    target_ops = target_session.s2p_ops[plane]\n",
    "    ref_stats = ref_session.s2p_stats[plane]\n",
    "    target_stats = target_session.s2p_stats[plane]\n",
    "    H = np.zeros((ref_ops['Ly'],ref_ops['Lx']))\n",
    "    C = np.zeros_like(H)\n",
    "    plt.figure(figsize=(6,6))\n",
    "    for ref,targ in zip(ref_inds,target_inds):\n",
    "        ypix = ref_stats[ref]['ypix'].flatten()\n",
    "        xpix = ref_stats[ref]['xpix'].flatten()\n",
    "        H[ypix,xpix] = 1\n",
    "        cont = measure.find_contours(H)\n",
    "        C[cont[0][:,0].astype('int'),cont[0][:,1].astype('int')]=1\n",
    "        H[ypix,xpix] = 0\n",
    "        ypix_2 = target_stats[targ]['ypix'].flatten()\n",
    "        xpix_2 = target_stats[targ]['xpix'].flatten()\n",
    "\n",
    "        H[ypix_2,xpix_2]=1\n",
    "        cont = measure.find_contours(H)\n",
    "        C[cont[0][:,0].astype('int'),cont[0][:,1].astype('int')]=2\n",
    "        H[ypix_2,xpix_2]=0\n",
    "\n",
    "    plt.imshow(C)\n",
    "    return C"
   ]
  },
  {
   "cell_type": "markdown",
   "id": "c7a78c56",
   "metadata": {},
   "source": [
    "# Collect list of sessions"
   ]
  },
  {
   "cell_type": "code",
   "execution_count": 9,
   "id": "a3ac3544",
   "metadata": {},
   "outputs": [
    {
     "name": "stdout",
     "output_type": "stream",
     "text": [
      "multiple planes functionality only partially implemented\n",
      "multiple planes functionality only partially implemented\n",
      "multiple planes functionality only partially implemented\n",
      "multiple planes functionality only partially implemented\n",
      "multiple planes functionality only partially implemented\n",
      "multiple planes functionality only partially implemented\n",
      "multiple planes functionality only partially implemented\n",
      "multiple planes functionality only partially implemented\n"
     ]
    }
   ],
   "source": [
    "exp_log = pd.read_excel(r'Y:\\giocomo\\export\\data\\Projects\\multiSLM\\ExpLog.xlsx', sheet_name='Sheet1')\n",
    "exp_id_lists = [\n",
    "        #[969,981],\n",
    "        [969,986],\n",
    "        #[971,983],\n",
    "        [971,989],\n",
    "        #[973,977],\n",
    "        [973,992],\n",
    "        #[975,979],\n",
    "        [975,995],\n",
    "        #[878,904],\n",
    "        #[721,747],\n",
    "        ]; #812\n",
    "session_list = []\n",
    "output_paths_list=[]\n",
    "\n",
    "for exp_ids in exp_id_lists:\n",
    "    sessions=[]\n",
    "    output_paths = []\n",
    "    mouse = [];\n",
    "    for exp_id in exp_ids:\n",
    "        idx = exp_log[exp_log['exp_id']==exp_id]\n",
    "        ts = idx['Date'].iloc[0]\n",
    "        dset = os.path.join(ts.strftime('%Y%m%d')+'_'+idx['Mouse'].iloc[0],idx['Filename PV'].iloc[0])\n",
    "        output_path = os.path.join(r'F:\\AA\\output',dset,'output')\n",
    "\n",
    "        s2p_path = os.path.join(output_path,'suite2p')\n",
    "        pa = Path(s2p_path)\n",
    "        pl0= pa / 'plane0'\n",
    "        if not pl0.exists():\n",
    "            output_path = os.path.join(r'Y:\\giocomo\\export\\data\\Projects\\multiSLM\\2p_Data',dset,'output')\n",
    "            s2p_path = os.path.join(output_path,'suite2p')\n",
    "\n",
    "        sess = TwoPUtils.sess.Session(s2p_path=s2p_path,n_planes = idx['nPlane'].iloc[0].astype('int'))\n",
    "        sess.load_suite2p_data()\n",
    "        sessions.append(sess)\n",
    "        output_paths.append(output_path)\n",
    "        mouse.append(idx['Mouse'].iloc[0])\n",
    "\n",
    "    out = np.unique(mouse)\n",
    "    assert len(out)==1\n",
    "    session_list.append(sessions)\n",
    "    output_paths_list.append(output_paths)\n",
    "\n",
    "    #print(output_path)"
   ]
  },
  {
   "cell_type": "code",
   "execution_count": 7,
   "id": "b670c0dc-ac91-43f3-87eb-0ac5429e2009",
   "metadata": {},
   "outputs": [
    {
     "data": {
      "text/plain": [
       "3.0"
      ]
     },
     "execution_count": 7,
     "metadata": {},
     "output_type": "execute_result"
    }
   ],
   "source": [
    "idx['nPlane'].iloc[0]"
   ]
  },
  {
   "cell_type": "code",
   "execution_count": 14,
   "id": "3c46c78e-a3d4-4419-8dc0-9e92e4542061",
   "metadata": {},
   "outputs": [
    {
     "name": "stdout",
     "output_type": "stream",
     "text": [
      "['F:\\\\AA\\\\output\\\\20221211_C680MX7\\\\vr_baseline-001\\\\output', 'F:\\\\AA\\\\output\\\\20221214_C680MX7\\\\vr_baseline-002\\\\output']\n",
      "[<TwoPUtils.sess.Session object at 0x0000015E768E6B50>, <TwoPUtils.sess.Session object at 0x0000015D8E2BCCD0>]\n",
      "[865, 896]\n",
      "['F:\\\\AA\\\\output\\\\20221211_C673MX4\\\\vr_baseline-001\\\\output', 'F:\\\\AA\\\\output\\\\20221214_C673MX4\\\\vr_baseline-002\\\\output']\n",
      "[<TwoPUtils.sess.Session object at 0x0000015D91AB55E0>, <TwoPUtils.sess.Session object at 0x0000015D8E16FEE0>]\n",
      "[862, 893]\n",
      "['F:\\\\AA\\\\output\\\\20221212_C680MX6\\\\vr_baseline-001\\\\output', 'F:\\\\AA\\\\output\\\\20221215_C680MX6\\\\vr_baseline-002\\\\output']\n",
      "[<TwoPUtils.sess.Session object at 0x0000015E76853E20>, <TwoPUtils.sess.Session object at 0x0000015D91B54040>]\n",
      "[878, 904]\n"
     ]
    }
   ],
   "source": [
    "for output_paths,sessions,exp_ids in zip(output_paths_list,session_list,exp_id_lists):\n",
    "    print(output_paths)\n",
    "    print(sessions)\n",
    "    print(exp_ids)"
   ]
  },
  {
   "cell_type": "markdown",
   "id": "24d19b5b",
   "metadata": {},
   "source": [
    "## run matching across all sessions"
   ]
  },
  {
   "cell_type": "code",
   "execution_count": 10,
   "id": "52e86430",
   "metadata": {},
   "outputs": [
    {
     "name": "stdout",
     "output_type": "stream",
     "text": [
      "thresh 0.24195870554447174\n",
      "thresh 0.27722920274734497\n",
      "thresh 0.33708895540237427\n",
      "thresh 0.31403897500038147\n",
      "thresh 0.28831009364128113\n",
      "thresh 0.2828930447101593\n",
      "thresh 0.23654757237434387\n",
      "thresh 0.27303384041786194\n",
      "thresh 0.331449640750885\n",
      "thresh 0.30942718482017517\n",
      "thresh 0.1782468239068985\n",
      "thresh 0.19548590278625488\n",
      "thresh 0.29705722427368164\n",
      "thresh 0.263691468000412\n",
      "thresh 0.2715839276313782\n",
      "thresh 0.13441529667377472\n",
      "thresh 0.26979557967185974\n",
      "thresh 0.20032383298873901\n",
      "thresh 0.2485675642490387\n",
      "thresh 0.26083041524887085\n",
      "thresh 0.23622192239761353\n",
      "thresh 0.1997067013978958\n",
      "thresh 0.22973859107494354\n",
      "thresh 0.26256237721443176\n"
     ]
    }
   ],
   "source": [
    "#could parallel\n",
    "for output_paths,sessions,exp_ids in zip(output_paths_list,session_list,exp_id_lists):\n",
    "    sa = TwoPUtils.roi_matching.ROIAligner(sessions)\n",
    "    nPlanes = len(sessions[0].s2p_ops)\n",
    "    for iP in range(nPlanes):\n",
    "        sa.run_pairwise_matches(plane = iP)\n",
    "        for iS in range(1,len(sessions)):\n",
    "            match_inds = sa.match_inds[iS-1][iS]\n",
    "            ref_inds = match_inds['ref_inds']\n",
    "            target_inds = match_inds['targ_inds']\n",
    "            df = pd.DataFrame(zip(ref_inds,target_inds),columns = ['pre','post'])\n",
    "            save_path = os.path.join(output_paths[iS-1],'roi_match_{}_{}_plane_{}.csv'.format(exp_ids[iS-1],exp_ids[iS],iP))\n",
    "            plot_matches(sessions[0],sessions[1],ref_inds,target_inds,iP)\n",
    "            df.to_csv(save_path,index=False)\n",
    "            plt.savefig(save_path.replace('.csv','.png'))\n",
    "            plt.close()\n",
    "        \n",
    "    "
   ]
  },
  {
   "cell_type": "code",
   "execution_count": 11,
   "id": "fb275431",
   "metadata": {},
   "outputs": [
    {
     "data": {
      "image/png": "[encoded data removed]",
      "text/plain": [
       "<Figure size 432x432 with 1 Axes>"
      ]
     },
     "metadata": {
      "needs_background": "light"
     },
     "output_type": "display_data"
    }
   ],
   "source": [
    "C=plot_matches(sessions[0],sessions[1],ref_inds[:5],target_inds[:5],2)"
   ]
  },
  {
   "cell_type": "code",
   "execution_count": 32,
   "id": "80f87042-6c50-4766-b0ec-270394f2da98",
   "metadata": {},
   "outputs": [
    {
     "data": {
      "text/plain": [
       "222"
      ]
     },
     "execution_count": 32,
     "metadata": {},
     "output_type": "execute_result"
    }
   ],
   "source": [
    "len(ref_inds)"
   ]
  },
  {
   "cell_type": "code",
   "execution_count": 8,
   "id": "11d92603",
   "metadata": {},
   "outputs": [
    {
     "data": {
      "text/plain": [
       "<TwoPUtils.sess.Session at 0x26d37ecf808>"
      ]
     },
     "execution_count": 8,
     "metadata": {},
     "output_type": "execute_result"
    }
   ],
   "source": [
    "sessions[0]"
   ]
  }
 ],
 "metadata": {
  "kernelspec": {
   "display_name": "Python two-photon",
   "language": "python",
   "name": "two-photon"
  },
  "language_info": {
   "codemirror_mode": {
    "name": "ipython",
    "version": 3
   },
   "file_extension": ".py",
   "mimetype": "text/x-python",
   "name": "python",
   "nbconvert_exporter": "python",
   "pygments_lexer": "ipython3",
   "version": "3.8.12"
  }
 },
 "nbformat": 4,
 "nbformat_minor": 5
}
